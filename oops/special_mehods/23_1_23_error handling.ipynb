{
 "cells": [
  {
   "cell_type": "code",
   "execution_count": 5,
   "metadata": {},
   "outputs": [
    {
     "name": "stdout",
     "output_type": "stream",
     "text": [
      "list index out of range\n"
     ]
    }
   ],
   "source": [
    "class Error:\n",
    "    try:\n",
    "        errs = ['syntax error','name error','indentation error','range error']\n",
    "        print(errs[4])\n",
    "    #except ValueError as err:\n",
    "    #    print(err)\n",
    "    #except Exception as err:\n",
    "    #    print(Exception.__class__,err)\n",
    "    except LookupError as err:\n",
    "        print(err)\n"
   ]
  },
  {
   "cell_type": "code",
   "execution_count": 19,
   "metadata": {},
   "outputs": [
    {
     "name": "stdout",
     "output_type": "stream",
     "text": [
      "err1\n",
      "err2\n",
      "('error:', 'you did not give me the data')\n"
     ]
    }
   ],
   "source": [
    "def Errors(data:any):\n",
    "    if not data:\n",
    "        raise NameError(\"error:\",\"you did not give me the data\")\n",
    "    for i in data:\n",
    "        print(i)\n",
    "\n",
    "Errors(data=['err1','err2'])\n",
    "#Errors(data=\"\")\n",
    "try:\n",
    "    Errors(data='')\n",
    "except Exception as a:\n",
    "    print(a)"
   ]
  },
  {
   "cell_type": "code",
   "execution_count": 21,
   "metadata": {},
   "outputs": [
    {
     "name": "stdout",
     "output_type": "stream",
     "text": [
      "a and b values are not given!\n"
     ]
    }
   ],
   "source": [
    "def calc(a:int,b:int)-> int:\n",
    "    try:\n",
    "        if not a and not b:\n",
    "            raise ValueError('a and b values are not given!')\n",
    "        return a*b\n",
    "    except Exception as error:\n",
    "        print(error)\n",
    "calc(a=0,b=0)        \n"
   ]
  },
  {
   "cell_type": "code",
   "execution_count": 28,
   "metadata": {},
   "outputs": [
    {
     "name": "stdout",
     "output_type": "stream",
     "text": [
      "0.0\n",
      "function calc is working fine\n"
     ]
    }
   ],
   "source": [
    "def calc(a:int,b:int)-> int:\n",
    "    try:\n",
    "        print(a/b)\n",
    "    except Exception as error:\n",
    "        raise ZeroDivisionError('values of both a and b are must not zero') from error\n",
    "try:\n",
    "   calc(a=0,b=20) \n",
    "except Exception as e:\n",
    "    print('default error :',e.__cause__)\n",
    "    print('default error :',e.args[0])\n",
    "    print('custom error :',e)   \n",
    "else:\n",
    "    print('function calc is working fine')\n",
    "\n"
   ]
  },
  {
   "cell_type": "code",
   "execution_count": 1,
   "metadata": {},
   "outputs": [
    {
     "name": "stdout",
     "output_type": "stream",
     "text": [
      "122.0\n",
      "finally block is running\n"
     ]
    }
   ],
   "source": [
    "def convert_celsius_to_fahrenheit(c:float):\n",
    "    return(c * 9/5)+32\n",
    "#print(__name__)\n",
    "if __name__  == \"__main__\":\n",
    "    try:\n",
    "\n",
    "        degree_celsius = float(input('enter the temprature in celcius'))\n",
    "    except ValueError as err:\n",
    "        print(err)\n",
    "        print(err.args[0])\n",
    "        print(err.__cause__)\n",
    "        print(err.__context__)\n",
    "    else:\n",
    "        try:\n",
    "            print(convert_celsius_to_fahrenheit(degree_celsius))\n",
    "        #except mogli_Error as error:\n",
    "        #    print(error)\n",
    "        #else:\n",
    "        #    print(f'{degree_celsius'}\n",
    "        finally:\n",
    "            print('finally block is running')\n",
    "\n",
    "#print(convert_celsius_to_fahrenheit(2))\n",
    "#print(convert_celsius_to_fahrenheit(degree_celsius))"
   ]
  },
  {
   "cell_type": "code",
   "execution_count": 39,
   "metadata": {},
   "outputs": [
    {
     "name": "stdout",
     "output_type": "stream",
     "text": [
      "132.8\n",
      "finally block is running\n"
     ]
    }
   ],
   "source": [
    "class mogli_Error():\n",
    "    min_f = 32\n",
    "    max_f = 212\n",
    "    def __init__(self,C:float,*args:object)-> None:\n",
    "        super().__init__(C,*args)\n",
    "        self.C = C\n",
    "    def __repr__(self)->str:\n",
    "        return super().__repr__()\n",
    "    def __str__(self) -> str:\n",
    "        return super().__repr__()\n",
    "        \n",
    "def convert_celsius_to_fahrenheit(c:float):\n",
    "    return(c * 9/5)+32\n",
    "#print(__name__)\n",
    "if __name__  == \"__main__\":\n",
    "    try:\n",
    "\n",
    "        degree_celsius = float(input('enter the temprature in celcius'))\n",
    "    except ValueError as err:\n",
    "        print(err)\n",
    "        print(err.args[0])\n",
    "        print(err.__cause__)\n",
    "        print(err.__context__)\n",
    "    else:\n",
    "        try:\n",
    "            print(convert_celsius_to_fahrenheit(degree_celsius))\n",
    "        finally:\n",
    "            print('finally block is running')\n",
    "\n",
    "#print(convert_celsius_to_fahrenheit(2))\n",
    "#print(convert_celsius_to_fahrenheit(degree_celsius))"
   ]
  }
 ],
 "metadata": {
  "kernelspec": {
   "display_name": "Python 3",
   "language": "python",
   "name": "python3"
  },
  "language_info": {
   "codemirror_mode": {
    "name": "ipython",
    "version": 3
   },
   "file_extension": ".py",
   "mimetype": "text/x-python",
   "name": "python",
   "nbconvert_exporter": "python",
   "pygments_lexer": "ipython3",
   "version": "3.11.1 (tags/v3.11.1:a7a450f, Dec  6 2022, 19:58:39) [MSC v.1934 64 bit (AMD64)]"
  },
  "orig_nbformat": 4,
  "vscode": {
   "interpreter": {
    "hash": "c261aea317cc0286b3b3261fbba9abdec21eaa57589985bb7a274bf54d6cc0a7"
   }
  }
 },
 "nbformat": 4,
 "nbformat_minor": 2
}
