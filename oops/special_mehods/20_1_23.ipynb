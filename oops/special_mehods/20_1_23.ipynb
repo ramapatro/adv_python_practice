{
 "cells": [
  {
   "cell_type": "code",
   "execution_count": 1,
   "metadata": {},
   "outputs": [
    {
     "name": "stdout",
     "output_type": "stream",
     "text": [
      "i am subhalaxmi\n"
     ]
    }
   ],
   "source": [
    "class Subha:\n",
    "    def getdetails(name):\n",
    "        return f'i am {name}'\n",
    "\n",
    "print(Subha.getdetails('subhalaxmi'))"
   ]
  },
  {
   "cell_type": "code",
   "execution_count": 5,
   "metadata": {},
   "outputs": [
    {
     "name": "stdout",
     "output_type": "stream",
     "text": [
      "i am supriya patro supriya\n",
      "supriya\n",
      "<class 'str'>\n",
      "Subha\n"
     ]
    }
   ],
   "source": [
    "class Subha:\n",
    "    def __init__(self,name) :\n",
    "        self.name = name\n",
    "        \n",
    "    def getdetails(self,name):\n",
    "        return f'i am {name} {self.name}'\n",
    "    def __str__(self) -> str:\n",
    "        return f'{self.name}'\n",
    "\n",
    "about= Subha('supriya')\n",
    "print(about.getdetails('supriya patro'))\n",
    "print(str(about))\n",
    "\n",
    "print(type(Subha.__name__))\n",
    "print(Subha.__name__)\n",
    "        \n",
    "\n",
    "#print(Subha.getdetails('subhalaxmi'))"
   ]
  },
  {
   "cell_type": "code",
   "execution_count": 8,
   "metadata": {},
   "outputs": [
    {
     "name": "stdout",
     "output_type": "stream",
     "text": [
      "i am supriya patro supriya\n",
      "my own personal name is supriya\n",
      "<class 'str'>\n",
      "Subha\n",
      "this is subha class\n",
      "this is subha class\n",
      "__main__\n",
      "{'__module__': '__main__', '__doc__': 'this is subha class', '__init__': <function Subha.__init__ at 0x0000019199C17F60>, 'getdetails': <function Subha.getdetails at 0x0000019199C17EC0>, '__str__': <function Subha.__str__ at 0x0000019199CE5D00>, '__dict__': <attribute '__dict__' of 'Subha' objects>, '__weakref__': <attribute '__weakref__' of 'Subha' objects>}\n",
      "this is subha class\n"
     ]
    }
   ],
   "source": [
    "from pprint import pprint\n",
    "\n",
    "class Subha:\n",
    "    \"\"\"this is subha class\"\"\"\n",
    "\n",
    "    def __init__(self,name) :\n",
    "        self.name = name\n",
    "        \n",
    "    def getdetails(self,name):\n",
    "        return f'i am {name} {self.name}'\n",
    "    def __str__(self) -> str:\n",
    "        return f'my name is{self.name}'\n",
    "\n",
    "    def __str__(self) -> str:\n",
    "        return f'my own personal name is {self.name}'\n",
    "\n",
    "about= Subha('supriya')\n",
    "print(about.getdetails('supriya patro'))\n",
    "print(str(about))\n",
    "\n",
    "print(type(Subha.__name__))\n",
    "print(Subha.__name__)\n",
    "print(Subha.__doc__)\n",
    "print(Subha.__module__)\n",
    "print(Subha.__dict__)\n",
    "print(Subha.__doc__)      \n",
    "\n",
    "\n",
    "#print(Subha.getdetails('subhalaxmi'))"
   ]
  },
  {
   "cell_type": "code",
   "execution_count": 17,
   "metadata": {},
   "outputs": [
    {
     "name": "stdout",
     "output_type": "stream",
     "text": [
      "subhalaxmi\n",
      "something error happened!\n"
     ]
    }
   ],
   "source": [
    "students_of_btech_girls = [\"subhalaxmi\",\"kitty\",\"subhasree\"]\n",
    "\n",
    "#for i in students_of_btech_girls:\n",
    " #   print()\n",
    "\n",
    "# print(len(students_of_btech_girls))\n",
    "# print(students_of_btech_girls[1])\n",
    "\n",
    "try:\n",
    "    print(students_of_btech_girls[0])\n",
    "except IndexError as error:\n",
    "    print(error)\n",
    "finally:\n",
    "    print('something error happened!')"
   ]
  },
  {
   "cell_type": "code",
   "execution_count": 1,
   "metadata": {},
   "outputs": [
    {
     "name": "stdout",
     "output_type": "stream",
     "text": [
      "subhasree\n",
      "error not happened!\n"
     ]
    }
   ],
   "source": [
    "students_of_btech_girls = [\"subhalaxmi\",\"kitty\",\"subhasree\"]\n",
    "\n",
    "#for i in students_of_btech_girls:\n",
    " #   print()\n",
    "\n",
    "# print(len(students_of_btech_girls))\n",
    "# print(students_of_btech_girls[1])\n",
    "is_error_happened = False\n",
    "try:\n",
    "    print(students_of_btech_girls[2])\n",
    "except IndexError as error:\n",
    "    print(error)\n",
    "    if error:\n",
    "        is_error_happened = True\n",
    "        raise IndexError ('error happens')\n",
    "    else:\n",
    "        is_error_happened = False\n",
    "finally:\n",
    "    print('something error happened!' if is_error_happened else 'error not happened!')"
   ]
  }
 ],
 "metadata": {
  "kernelspec": {
   "display_name": "Python 3",
   "language": "python",
   "name": "python3"
  },
  "language_info": {
   "codemirror_mode": {
    "name": "ipython",
    "version": 3
   },
   "file_extension": ".py",
   "mimetype": "text/x-python",
   "name": "python",
   "nbconvert_exporter": "python",
   "pygments_lexer": "ipython3",
   "version": "3.11.1 (tags/v3.11.1:a7a450f, Dec  6 2022, 19:58:39) [MSC v.1934 64 bit (AMD64)]"
  },
  "orig_nbformat": 4,
  "vscode": {
   "interpreter": {
    "hash": "c261aea317cc0286b3b3261fbba9abdec21eaa57589985bb7a274bf54d6cc0a7"
   }
  }
 },
 "nbformat": 4,
 "nbformat_minor": 2
}
