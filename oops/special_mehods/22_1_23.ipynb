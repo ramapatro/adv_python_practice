{
 "cells": [
  {
   "cell_type": "code",
   "execution_count": 3,
   "metadata": {},
   "outputs": [
    {
     "name": "stdout",
     "output_type": "stream",
     "text": [
      "['SBR', 'khalikot', 'mahamayee', 'binayak']\n",
      "khalikot\n",
      "SBR\n",
      "list index out of range\n",
      "finally runs every time\n"
     ]
    }
   ],
   "source": [
    "collage = ['SBR','khalikot','mahamayee','binayak']\n",
    "\n",
    "print(collage)\n",
    "print(collage[1])\n",
    "print(collage[0])\n",
    "\n",
    "try:\n",
    "    print(collage[5])\n",
    "except IndexError as error:\n",
    "    print(error)\n",
    "finally:\n",
    "    print('finally runs every time')"
   ]
  },
  {
   "cell_type": "code",
   "execution_count": 4,
   "metadata": {},
   "outputs": [
    {
     "name": "stdout",
     "output_type": "stream",
     "text": [
      "['SBR', 'khalikot', 'mahamayee', 'binayak']\n",
      "khalikot\n",
      "SBR\n",
      "<class 'IndexError'> list index out of range\n",
      "finally runs every time\n"
     ]
    }
   ],
   "source": [
    "collage = ['SBR','khalikot','mahamayee','binayak']\n",
    "\n",
    "print(collage)\n",
    "print(collage[1])\n",
    "print(collage[0])\n",
    "\n",
    "try:\n",
    "    print(collage[5])\n",
    "except IndexError as error:\n",
    "    print(error.__class__,error)\n",
    "finally:\n",
    "    print('finally runs every time')"
   ]
  },
  {
   "cell_type": "code",
   "execution_count": 8,
   "metadata": {},
   "outputs": [],
   "source": [
    "class BaseExp:\n",
    "    name:str\n",
    "    age:float\n",
    "class Exep(BaseExp):\n",
    "    job:str\n",
    "    collage:str\n",
    "\n",
    "class NameErr(Exep):\n",
    "    def names(self):\n",
    "        return self.name,self.age,self.job,self.collage\n",
    "#error = BaseExp('sbr')\n",
    "#print(BaseExp.names())"
   ]
  },
  {
   "cell_type": "code",
   "execution_count": 10,
   "metadata": {},
   "outputs": [
    {
     "name": "stdout",
     "output_type": "stream",
     "text": [
      "['SBR', 'khalikot', 'mahamayee', 'binayak']\n",
      "khalikot\n",
      "SBR\n",
      "khalikot\n",
      "finally runs every time\n"
     ]
    }
   ],
   "source": [
    "collage = ['SBR','khalikot','mahamayee','binayak']\n",
    "\n",
    "print(collage)\n",
    "print(collage[1])\n",
    "print(collage[0])\n",
    "\n",
    "try:\n",
    "    {\n",
    "        \"status\":100,\n",
    "        \"success\":True,\n",
    "        \"data\":print(collage[1])\n",
    "    }\n",
    "except BaseException as error:\n",
    "    {\n",
    "        \"status\":300,\n",
    "        \"success\":False,\n",
    "        \"data\":print(error.__class__,error)\n",
    "    }\n",
    "finally:\n",
    "    print('finally runs every time')"
   ]
  },
  {
   "cell_type": "code",
   "execution_count": 20,
   "metadata": {},
   "outputs": [
    {
     "name": "stdout",
     "output_type": "stream",
     "text": [
      "<class 'IndexError'> list index out of range\n",
      "finally runs every time in the block\n",
      "{'status': 300, 'success': False, 'data': None}\n"
     ]
    }
   ],
   "source": [
    "collage = ['SBR','khalikot','mahamayee','binayak']\n",
    "\n",
    "# print(collage)\n",
    "# print(collage[1])\n",
    "# print(collage[0])\n",
    "\n",
    "def getoutput():\n",
    "    try:\n",
    "        return {\n",
    "           \n",
    "            \"status\":100,\n",
    "            \"success\":True,\n",
    "            \"data\":print(collage[7])\n",
    "    }\n",
    "    except BaseException as error:\n",
    "        return {\n",
    "            \"status\":300,\n",
    "            \"success\":False,\n",
    "            \"data\":print(error.__class__,error)\n",
    "    }\n",
    "    else:\n",
    "        return ' i am from block else '\n",
    "    finally:\n",
    "        print('finally runs every time in the block')\n",
    "print(getoutput())\n",
    "# try:\n",
    "#     result = getoutput(collage[7])\n",
    "\n",
    "# except IndexError as error:\n",
    "#     error\n",
    "# else:\n",
    "#     'i am else biock'\n"
   ]
  },
  {
   "cell_type": "code",
   "execution_count": 2,
   "metadata": {},
   "outputs": [
    {
     "name": "stdout",
     "output_type": "stream",
     "text": [
      "mahamayee\n",
      "i am from else biock\n"
     ]
    }
   ],
   "source": [
    "collage = ['SBR','khalikot','mahamayee','binayak']\n",
    "\n",
    "def getoutput(data):\n",
    "    try:\n",
    "        return {\n",
    "           \n",
    "            \"status\":100,\n",
    "            \"success\":True,\n",
    "            \"data\":print(data)\n",
    "    }\n",
    "    except Exception as error:\n",
    "        raise IndexError('something error happened')\n",
    "try:\n",
    "    result = getoutput(collage[2])\n",
    "\n",
    "except IndexError as error:\n",
    "    print(error)\n",
    "else:\n",
    "    print('i am from else biock')\n",
    "\n",
    "\n",
    "        "
   ]
  },
  {
   "cell_type": "code",
   "execution_count": 26,
   "metadata": {},
   "outputs": [
    {
     "ename": "TypeError",
     "evalue": "divide() missing 1 required positional argument: 'b'",
     "output_type": "error",
     "traceback": [
      "\u001b[1;31m---------------------------------------------------------------------------\u001b[0m",
      "\u001b[1;31mTypeError\u001b[0m                                 Traceback (most recent call last)",
      "Cell \u001b[1;32mIn[26], line 8\u001b[0m\n\u001b[0;32m      5\u001b[0m         \u001b[39mraise\u001b[39;00m \u001b[39mValueError\u001b[39;00m(\u001b[39m'\u001b[39m\u001b[39mthe second arguement (b) must not be zero\u001b[39m\u001b[39m'\u001b[39m)\n\u001b[0;32m      7\u001b[0m \u001b[39mtry\u001b[39;00m:\n\u001b[1;32m----> 8\u001b[0m     result \u001b[39m=\u001b[39m divide(\u001b[39m10\u001b[39;49m\u001b[39m*\u001b[39;49m\u001b[39m5\u001b[39;49m)\n\u001b[0;32m      9\u001b[0m \u001b[39mexcept\u001b[39;00m \u001b[39mValueError\u001b[39;00m \u001b[39mas\u001b[39;00m e:\n\u001b[0;32m     10\u001b[0m     \u001b[39mprint\u001b[39m(e)\n",
      "\u001b[1;31mTypeError\u001b[0m: divide() missing 1 required positional argument: 'b'"
     ]
    }
   ],
   "source": [
    "def divide(a,b):\n",
    "    try:\n",
    "        return a*b\n",
    "    except ZeroDivisionError as ex:\n",
    "        raise ValueError('the second arguement (b) must not be zero')\n",
    "\n",
    "try:\n",
    "    result = divide(10*0)\n",
    "except ValueError as e:\n",
    "    print(e)\n",
    "else:\n",
    "    print('result:',result)\n",
    "\n",
    "\n"
   ]
  },
  {
   "cell_type": "code",
   "execution_count": 31,
   "metadata": {},
   "outputs": [
    {
     "name": "stdout",
     "output_type": "stream",
     "text": [
      "('please give a name,you did not give any name',)\n",
      "\n"
     ]
    }
   ],
   "source": [
    "def getyourname(name:str)->str:\n",
    "    try:\n",
    "        if not name:\n",
    "            raise ValueError('please give a name,you did not give any name')\n",
    "    except ValueError as ex:\n",
    "        print(ex.args)\n",
    "    return name\n",
    "print(getyourname(''))"
   ]
  }
 ],
 "metadata": {
  "kernelspec": {
   "display_name": "Python 3",
   "language": "python",
   "name": "python3"
  },
  "language_info": {
   "codemirror_mode": {
    "name": "ipython",
    "version": 3
   },
   "file_extension": ".py",
   "mimetype": "text/x-python",
   "name": "python",
   "nbconvert_exporter": "python",
   "pygments_lexer": "ipython3",
   "version": "3.11.1"
  },
  "orig_nbformat": 4,
  "vscode": {
   "interpreter": {
    "hash": "c261aea317cc0286b3b3261fbba9abdec21eaa57589985bb7a274bf54d6cc0a7"
   }
  }
 },
 "nbformat": 4,
 "nbformat_minor": 2
}
