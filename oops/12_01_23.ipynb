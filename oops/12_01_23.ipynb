{
 "cells": [
  {
   "cell_type": "code",
   "execution_count": 1,
   "metadata": {},
   "outputs": [
    {
     "name": "stdout",
     "output_type": "stream",
     "text": [
      "hii everybody\n"
     ]
    }
   ],
   "source": [
    "print('hii everybody')"
   ]
  },
  {
   "cell_type": "code",
   "execution_count": 1,
   "metadata": {},
   "outputs": [
    {
     "name": "stdout",
     "output_type": "stream",
     "text": [
      "2290474647296\n",
      "2290474973952\n",
      "<class 'str'>\n",
      "<class 'function'>\n",
      "i am not a outsider guy\n",
      "i am a outsider guy\n",
      "I am a outsider guy\n"
     ]
    }
   ],
   "source": [
    "outsider = \"i am a outsider guy\"\n",
    "def function():\n",
    "    return\"i am not a outsider guy\"\n",
    "print(id(outsider))\n",
    "print(id(function))\n",
    "print(type(outsider))\n",
    "print(type(function))\n",
    "\n",
    "print(function())\n",
    "print(outsider)\n",
    "print(outsider.capitalize())\n"
   ]
  },
  {
   "cell_type": "code",
   "execution_count": 2,
   "metadata": {},
   "outputs": [
    {
     "name": "stdout",
     "output_type": "stream",
     "text": [
      "<__main__.supriya object at 0x0000026A6C96DB10>\n",
      "2656111614736\n",
      "0x241266d5610\n",
      "605185749\n",
      "True\n",
      "<class '__main__.supriya'>\n",
      "supriya\n"
     ]
    }
   ],
   "source": [
    "class supriya:\n",
    "    nature = \"she is nice with everyone\"\n",
    "    def behaviour():\n",
    "        return\"sometimes she get angry easily\"\n",
    "\n",
    "#print(supriya.nature)\n",
    "#print(supriya.behaviour())      \n",
    "\n",
    "my_name = supriya()\n",
    "print(my_name)\n",
    "print(id(my_name))\n",
    "print(hex(2478840829456)) \n",
    "print(int(0x00000241266D5))\n",
    "print(isinstance(my_name,supriya))\n",
    "print(type(my_name))\n",
    "print(supriya.__name__)"
   ]
  },
  {
   "cell_type": "code",
   "execution_count": 8,
   "metadata": {},
   "outputs": [
    {
     "name": "stdout",
     "output_type": "stream",
     "text": [
      "2478845889152\n",
      "2478846251936\n",
      "<class 'str'>\n",
      "<class 'function'>\n",
      "i am supriya but sometimes somebody call me subha also\n",
      "supriya\n",
      "i am a outsider guy\n",
      "I am a outsider guy\n"
     ]
    }
   ],
   "source": [
    "outsider = \"i am a outsider guy\"\n",
    "def supriya():\n",
    "    return\"i am supriya but sometimes somebody call me subha also\"\n",
    "print(id(outsider))\n",
    "print(id(supriya))\n",
    "print(type(outsider))\n",
    "print(type(supriya))\n",
    "\n",
    "print(supriya())\n",
    "print(supriya.__name__)\n",
    "print(outsider)\n",
    "print(outsider.capitalize())\n"
   ]
  },
  {
   "cell_type": "code",
   "execution_count": 13,
   "metadata": {},
   "outputs": [
    {
     "name": "stdout",
     "output_type": "stream",
     "text": [
      "i am subhalaxmi and i am a student at rit berhampur\n",
      "i am supriya and i am a clg student at sbr ganjam\n"
     ]
    }
   ],
   "source": [
    "def profile(**args):\n",
    "    return f'i am {args.get(\"name\")} and i am a {args.get(\"job\")} at {args.get(\"clg\")} {args.get(\"address\")}'\n",
    "subhalaxmi = profile(name=\"subhalaxmi\",job =\"student\",clg= \"rit\",address = \"berhampur\")\n",
    "supriya = profile(name= \"supriya\" ,job = \"clg student\",clg = \"sbr\",address =\"ganjam\")\n",
    "print(subhalaxmi)\n",
    "print(supriya)"
   ]
  },
  {
   "cell_type": "code",
   "execution_count": 6,
   "metadata": {},
   "outputs": [
    {
     "name": "stdout",
     "output_type": "stream",
     "text": [
      "<class '__main__.supriya'>\n",
      "2656114684128\n",
      "0x241266d5610\n",
      "605185749\n",
      "True\n",
      "<class '__main__.supriya'>\n",
      "supriya\n"
     ]
    }
   ],
   "source": [
    "my_name = supriya()\n",
    "print(supriya)\n",
    "print(id(supriya))\n",
    "print(hex(2478840829456)) \n",
    "print(int(0x00000241266D5))\n",
    "print(isinstance(my_name,supriya))\n",
    "print(type(my_name))\n",
    "print(supriya.__name__)\n"
   ]
  },
  {
   "cell_type": "code",
   "execution_count": 20,
   "metadata": {},
   "outputs": [
    {
     "name": "stdout",
     "output_type": "stream",
     "text": [
      "subhalaxmi\n"
     ]
    }
   ],
   "source": [
    "class subhalaxmi:\n",
    "    moro_clg_naa = 'subhalaxmi'\n",
    "    def moro_nick_naa():\n",
    "       return'supriya'\n",
    "#print(subhalaxmi.moro_clg_naa)\n",
    "#print(supriya.moro_nick_naa())  \n",
    "name = getattr(subhalaxmi,\"moro_clg_naa\") \n",
    "print(name)\n"
   ]
  }
 ],
 "metadata": {
  "kernelspec": {
   "display_name": "Python 3",
   "language": "python",
   "name": "python3"
  },
  "language_info": {
   "codemirror_mode": {
    "name": "ipython",
    "version": 3
   },
   "file_extension": ".py",
   "mimetype": "text/x-python",
   "name": "python",
   "nbconvert_exporter": "python",
   "pygments_lexer": "ipython3",
   "version": "3.11.1 (tags/v3.11.1:a7a450f, Dec  6 2022, 19:58:39) [MSC v.1934 64 bit (AMD64)]"
  },
  "orig_nbformat": 4,
  "vscode": {
   "interpreter": {
    "hash": "c261aea317cc0286b3b3261fbba9abdec21eaa57589985bb7a274bf54d6cc0a7"
   }
  }
 },
 "nbformat": 4,
 "nbformat_minor": 2
}
