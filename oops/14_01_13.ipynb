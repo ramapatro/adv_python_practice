{
 "cells": [
  {
   "cell_type": "code",
   "execution_count": 4,
   "metadata": {},
   "outputs": [
    {
     "name": "stdout",
     "output_type": "stream",
     "text": [
      "MY NAME IS SUPRIYA PATRO\n",
      "supriya\n",
      "<class 'type'>\n"
     ]
    }
   ],
   "source": [
    "outside_class = 'my name is supriya patro'\n",
    "class Str:\n",
    "    def upper():\n",
    "        return outside_class.upper()\n",
    "    def lower():\n",
    "        return'SUPRIYA'.lower()\n",
    "print(Str.upper()) \n",
    "print(Str.lower())\n",
    "print(type(Str))      "
   ]
  },
  {
   "cell_type": "code",
   "execution_count": 6,
   "metadata": {},
   "outputs": [
    {
     "name": "stdout",
     "output_type": "stream",
     "text": [
      " inside i am supryia\n"
     ]
    }
   ],
   "source": [
    "outside_class = 'my name is supriya patro'\n",
    "class Str:\n",
    "    def __init__(self) :\n",
    "        self.inside_class = ' inside i am supryia'\n",
    "    def upper():\n",
    "        return outside_class.upper()\n",
    "    def lower(self):\n",
    "        return self.inside_class.lower()\n",
    "#print(Str.upper()) \n",
    "#print(Str.lower())\n",
    "#print(type(Str))  \n",
    "string = Str()    \n",
    "print(string.lower())"
   ]
  },
  {
   "cell_type": "code",
   "execution_count": 14,
   "metadata": {},
   "outputs": [
    {
     "name": "stdout",
     "output_type": "stream",
     "text": [
      "MY NAME IS SUPRIYA PATRO\n",
      " inside i am supryia\n",
      " i am capitalized variable \n",
      "supriya patro\n",
      "19\n",
      "supriya patro\n",
      "19\n",
      "btech student\n",
      "rit\n",
      "btech student\n",
      "{'insideclass': ' inside i am supryia', 'strg': ' i am capitalized variable ', 'job': 'btech student'}\n",
      "btech student\n"
     ]
    }
   ],
   "source": [
    "outside_class = 'my name is supriya patro'\n",
    "class Str:\n",
    "    #if we write inside the function we have to write the init method\n",
    "    my_name ='supriya patro'\n",
    "    age = 19\n",
    "    def __init__(self,str) :\n",
    "        self.insideclass = ' inside i am supryia'\n",
    "        self.strg = str\n",
    "    def upper(self):\n",
    "        return outside_class.upper()\n",
    "    def lower(self):\n",
    "        return self.insideclass.lower()\n",
    "    def capitalize(self):\n",
    "        return self.strg.capitalize()\n",
    "string  = Str(' i am capitalized variable ')\n",
    "print(string.upper())\n",
    "print(string.lower())\n",
    "print(string.capitalize())\n",
    "print(string.my_name)\n",
    "print(string.age)\n",
    "print(string.__getattribute__('my_name'))\n",
    "print(getattr(string,'age'))\n",
    "\n",
    "string.job = 'btech student'\n",
    "string.__setattr__('clg','rit')\n",
    "\n",
    "print(string.job)\n",
    "print(string.__getattribute__('clg'))\n",
    "\n",
    "string.__delattr__('clg')\n",
    "#del string.job\n",
    "print(string.job)\n",
    "\n",
    "#print(type(Str))  \n",
    "#string = Str()    \n",
    "#print(string.lower())\n",
    "print(string.__dict__) #to get all the attributes inside the cls\n",
    "print(string.__dict__['job'])#to get all the attributes inside the cls"
   ]
  },
  {
   "cell_type": "code",
   "execution_count": 23,
   "metadata": {},
   "outputs": [
    {
     "name": "stdout",
     "output_type": "stream",
     "text": [
      "__main__\n",
      "Myprofile\n"
     ]
    }
   ],
   "source": [
    "print(__name__)\n",
    "class Myprofile:\n",
    "    def __init__(self,name,age,job) :\n",
    "        self.name = name\n",
    "        self.age = age\n",
    "        self.job = job\n",
    "    def getDetail(self):\n",
    "        return f' i am {self.name}'\n",
    "        \n",
    "profile = Myprofile('subhalaxmi patro',19,'btech student')\n",
    "print(Myprofile.__name__)"
   ]
  },
  {
   "cell_type": "code",
   "execution_count": 29,
   "metadata": {},
   "outputs": [
    {
     "name": "stdout",
     "output_type": "stream",
     "text": [
      "0\n",
      "1000\n"
     ]
    }
   ],
   "source": [
    "class Counter:\n",
    "    def __init__(self):\n",
    "       self.current = 0\n",
    "    def increment(self):\n",
    "        self.current += 1\n",
    "    def decrement(self):\n",
    "        self.current -= 1\n",
    "    def value(self):\n",
    "        return self.current\n",
    "    def reset(self):\n",
    "        self.current = 0\n",
    "\n",
    "#constructor\n",
    "Counter = Counter()\n",
    "\n",
    "print(Counter.value())\n",
    "Counter.increment()\n",
    "Counter.increment()\n",
    "Counter.increment()\n",
    "Counter.reset()\n",
    "Counter.decrement()\n",
    "Counter.current = 1000\n",
    "\n",
    "print(Counter.value())\n",
    "\n"
   ]
  },
  {
   "cell_type": "code",
   "execution_count": 33,
   "metadata": {},
   "outputs": [
    {
     "name": "stdout",
     "output_type": "stream",
     "text": [
      "0\n",
      "-1\n"
     ]
    }
   ],
   "source": [
    "class Counter:\n",
    "    def __init__(self):\n",
    "       self._current = 0\n",
    "    def increment(self):\n",
    "        self._current += 1\n",
    "    def decrement(self):\n",
    "        self._current -= 1\n",
    "    def value(self):\n",
    "        return self._current\n",
    "    def reset(self):\n",
    "        self._current = 0\n",
    "\n",
    "#constructor\n",
    "Counter = Counter()\n",
    "\n",
    "print(Counter.value())\n",
    "Counter.increment()\n",
    "Counter.increment()\n",
    "Counter.increment()\n",
    "Counter.increment()\n",
    "Counter.reset()\n",
    "Counter.decrement()\n",
    "Counter.current = 1000 #this will be private after one _ and__\n",
    "\n",
    "\n",
    "print(Counter.value())\n",
    "\n"
   ]
  },
  {
   "cell_type": "code",
   "execution_count": 38,
   "metadata": {},
   "outputs": [
    {
     "name": "stdout",
     "output_type": "stream",
     "text": [
      "3.141\n",
      "12.564\n",
      "12.564\n"
     ]
    }
   ],
   "source": [
    "class Circle:\n",
    "\n",
    "    #class attribute\n",
    "    pi = 3.141\n",
    "    #instance attribute\n",
    "    def __init__(self,radius) :\n",
    "        #self.pi = 3.141\n",
    "        self.radius = radius\n",
    "\n",
    "    #instance method\n",
    "    def area(self):\n",
    "        return self.pi * self.radius**2\n",
    "    def circumference(self):\n",
    "        return 2*self.pi * self.radius\n",
    "\n",
    "circle = Circle(2)\n",
    "print(circle.pi)      \n",
    "print(circle.area())\n",
    "print(circle.circumference())        "
   ]
  },
  {
   "cell_type": "code",
   "execution_count": 39,
   "metadata": {},
   "outputs": [
    {
     "name": "stdout",
     "output_type": "stream",
     "text": [
      "3.141\n",
      "12.564\n",
      "12.564\n"
     ]
    }
   ],
   "source": [
    "class Circle:\n",
    "\n",
    "    #class attribute\n",
    "    PII = 3.141\n",
    "    #instance attribute\n",
    "    def __init__(self,radius) :\n",
    "        #self.pi = 3.141\n",
    "        self.radius = radius\n",
    "\n",
    "    #instance method\n",
    "    def area(self):\n",
    "        return self.PII * self.radius**2\n",
    "    def circumference(self):\n",
    "        return 2*self.PII * self.radius\n",
    "\n",
    "circle = Circle(2)\n",
    "print(circle.PII)      \n",
    "print(circle.area())\n",
    "print(circle.circumference())        "
   ]
  }
 ],
 "metadata": {
  "kernelspec": {
   "display_name": "Python 3",
   "language": "python",
   "name": "python3"
  },
  "language_info": {
   "codemirror_mode": {
    "name": "ipython",
    "version": 3
   },
   "file_extension": ".py",
   "mimetype": "text/x-python",
   "name": "python",
   "nbconvert_exporter": "python",
   "pygments_lexer": "ipython3",
   "version": "3.11.1 (tags/v3.11.1:a7a450f, Dec  6 2022, 19:58:39) [MSC v.1934 64 bit (AMD64)]"
  },
  "orig_nbformat": 4,
  "vscode": {
   "interpreter": {
    "hash": "c261aea317cc0286b3b3261fbba9abdec21eaa57589985bb7a274bf54d6cc0a7"
   }
  }
 },
 "nbformat": 4,
 "nbformat_minor": 2
}
