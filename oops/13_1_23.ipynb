{
 "cells": [
  {
   "cell_type": "code",
   "execution_count": 1,
   "metadata": {},
   "outputs": [
    {
     "name": "stdout",
     "output_type": "stream",
     "text": [
      "supriya\n",
      "2023\n"
     ]
    }
   ],
   "source": [
    "class subhalaxmi:\n",
    "    start = 2023\n",
    "    def getown(name):\n",
    "        return name\n",
    "\n",
    "print(subhalaxmi.getown(name = \"supriya\"))        \n",
    "print(subhalaxmi.start)"
   ]
  },
  {
   "cell_type": "code",
   "execution_count": 2,
   "metadata": {},
   "outputs": [
    {
     "name": "stdout",
     "output_type": "stream",
     "text": [
      "subhalaxmi\n"
     ]
    }
   ],
   "source": [
    "class Btech:\n",
    "    def __init__(self,name):\n",
    "        start = 2023\n",
    "        self.name = name\n",
    "    def getstudentss(self):\n",
    "        return self.name\n",
    "\n",
    "students = Btech('subhalaxmi')\n",
    "print(students.getstudentss())"
   ]
  },
  {
   "cell_type": "code",
   "execution_count": 11,
   "metadata": {},
   "outputs": [
    {
     "name": "stdout",
     "output_type": "stream",
     "text": [
      "subhalaxmi\n"
     ]
    }
   ],
   "source": [
    "class Btech:\n",
    "    start = 2023\n",
    "    def __init__(self,name):\n",
    "        self.start = 2023\n",
    "        self.name = name\n",
    "    def getstudents(self):\n",
    "        studentss = ['supriya','rinki','ahan']\n",
    "        return self.name\n",
    "\n",
    "studentss = Btech('subhalaxmi')\n",
    "print(studentss.getstudents())"
   ]
  },
  {
   "cell_type": "code",
   "execution_count": 19,
   "metadata": {},
   "outputs": [
    {
     "ename": "AttributeError",
     "evalue": "'calculator' object has no attribute 'num1'",
     "output_type": "error",
     "traceback": [
      "\u001b[1;31m---------------------------------------------------------------------------\u001b[0m",
      "\u001b[1;31mAttributeError\u001b[0m                            Traceback (most recent call last)",
      "Cell \u001b[1;32mIn[19], line 15\u001b[0m\n\u001b[0;32m     12\u001b[0m         \u001b[39mreturn\u001b[39;00m \u001b[39mf\u001b[39m\u001b[39m'\u001b[39m\u001b[39msum of\u001b[39m\u001b[39m{\u001b[39;00m\u001b[39mself\u001b[39m\u001b[39m.\u001b[39mnum_1\u001b[39m}\u001b[39;00m\u001b[39m / \u001b[39m\u001b[39m{\u001b[39;00m\u001b[39mself\u001b[39m\u001b[39m.\u001b[39mnum_2\u001b[39m}\u001b[39;00m\u001b[39m = \u001b[39m\u001b[39m{\u001b[39;00m\u001b[39mself\u001b[39m\u001b[39m.\u001b[39mnum1\u001b[39m/\u001b[39m\u001b[39mself\u001b[39m\u001b[39m.\u001b[39mnum2\u001b[39m}\u001b[39;00m\u001b[39m'\u001b[39m    \n\u001b[0;32m     14\u001b[0m calc \u001b[39m=\u001b[39m calculator(\u001b[39m20\u001b[39m,\u001b[39m10\u001b[39m)\n\u001b[1;32m---> 15\u001b[0m \u001b[39mprint\u001b[39m(calc\u001b[39m.\u001b[39;49maddition())\n\u001b[0;32m     16\u001b[0m \u001b[39mprint\u001b[39m(calc\u001b[39m.\u001b[39msubsraction())\n\u001b[0;32m     17\u001b[0m \u001b[39mprint\u001b[39m(calc\u001b[39m.\u001b[39mmultiplication())\n",
      "Cell \u001b[1;32mIn[19], line 6\u001b[0m, in \u001b[0;36mcalculator.addition\u001b[1;34m(self)\u001b[0m\n\u001b[0;32m      5\u001b[0m \u001b[39mdef\u001b[39;00m \u001b[39maddition\u001b[39m(\u001b[39mself\u001b[39m)\u001b[39m-\u001b[39m\u001b[39m>\u001b[39m\u001b[39mstr\u001b[39m:\n\u001b[1;32m----> 6\u001b[0m     \u001b[39mreturn\u001b[39;00m \u001b[39mf\u001b[39m\u001b[39m'\u001b[39m\u001b[39msum of\u001b[39m\u001b[39m{\u001b[39;00m\u001b[39mself\u001b[39m\u001b[39m.\u001b[39mnum_1\u001b[39m}\u001b[39;00m\u001b[39m + \u001b[39m\u001b[39m{\u001b[39;00m\u001b[39mself\u001b[39m\u001b[39m.\u001b[39mnum_2\u001b[39m}\u001b[39;00m\u001b[39m = \u001b[39m\u001b[39m{\u001b[39;00m\u001b[39mself\u001b[39;49m\u001b[39m.\u001b[39;49mnum1\u001b[39m+\u001b[39m\u001b[39mself\u001b[39m\u001b[39m.\u001b[39mnum2\u001b[39m}\u001b[39;00m\u001b[39m'\u001b[39m\n",
      "\u001b[1;31mAttributeError\u001b[0m: 'calculator' object has no attribute 'num1'"
     ]
    }
   ],
   "source": [
    "class calculator:\n",
    "    def __init__(self,num1:int,num2:int):\n",
    "        self.num_1 = num1\n",
    "        self.num_2 = num2\n",
    "    def addition(self)->str:\n",
    "        return f'sum of{self.num_1} + {self.num_2} = {self.num1+self.num2}'\n",
    "    def subsraction(self)->str:\n",
    "        return f'sum of{self.num_1} - {self.num_2} = {self.num1-self.num2}'\n",
    "    def multiplication(self)->str:\n",
    "        return f'sum of{self.num_1} * {self.num_2} = {self.num1*self.num2}'\n",
    "    def division(self)->str:\n",
    "        return f'sum of{self.num_1} / {self.num_2} = {self.num1/self.num2}'    \n",
    "\n",
    "calc = calculator(20,10)\n",
    "print(calc.addition())\n",
    "print(calc.subsraction())\n",
    "print(calc.multiplication())\n",
    "print(calc.division())\n"
   ]
  }
 ],
 "metadata": {
  "kernelspec": {
   "display_name": "Python 3",
   "language": "python",
   "name": "python3"
  },
  "language_info": {
   "codemirror_mode": {
    "name": "ipython",
    "version": 3
   },
   "file_extension": ".py",
   "mimetype": "text/x-python",
   "name": "python",
   "nbconvert_exporter": "python",
   "pygments_lexer": "ipython3",
   "version": "3.11.1"
  },
  "orig_nbformat": 4,
  "vscode": {
   "interpreter": {
    "hash": "c261aea317cc0286b3b3261fbba9abdec21eaa57589985bb7a274bf54d6cc0a7"
   }
  }
 },
 "nbformat": 4,
 "nbformat_minor": 2
}
