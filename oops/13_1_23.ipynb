{
 "cells": [
  {
   "cell_type": "code",
   "execution_count": 1,
   "metadata": {},
   "outputs": [
    {
     "name": "stdout",
     "output_type": "stream",
     "text": [
      "supriya\n",
      "2023\n"
     ]
    }
   ],
   "source": [
    "class subhalaxmi:\n",
    "    start = 2023\n",
    "    def getown(name):\n",
    "        return name\n",
    "\n",
    "print(subhalaxmi.getown(name = \"supriya\"))        \n",
    "print(subhalaxmi.start)"
   ]
  },
  {
   "cell_type": "code",
   "execution_count": 2,
   "metadata": {},
   "outputs": [
    {
     "name": "stdout",
     "output_type": "stream",
     "text": [
      "subhalaxmi\n"
     ]
    }
   ],
   "source": [
    "class Btech:\n",
    "    def __init__(self,name):\n",
    "        start = 2023\n",
    "        self.name = name\n",
    "    def getstudentss(self):\n",
    "        return self.name\n",
    "\n",
    "students = Btech('subhalaxmi')\n",
    "print(students.getstudentss())"
   ]
  },
  {
   "cell_type": "code",
   "execution_count": 11,
   "metadata": {},
   "outputs": [
    {
     "name": "stdout",
     "output_type": "stream",
     "text": [
      "subhalaxmi\n"
     ]
    }
   ],
   "source": [
    "class Btech:\n",
    "    start = 2023\n",
    "    def __init__(self,name):\n",
    "        self.start = 2023\n",
    "        self.name = name\n",
    "    def getstudents(self):\n",
    "        studentss = ['supriya','rinki','ahan']\n",
    "        return self.name\n",
    "\n",
    "studentss = Btech('subhalaxmi')\n",
    "print(studentss.getstudents())"
   ]
  },
  {
   "cell_type": "code",
   "execution_count": 3,
   "metadata": {},
   "outputs": [
    {
     "name": "stdout",
     "output_type": "stream",
     "text": [
      "sum of 20 + 10 = 30\n",
      "substract of 20 - 10 = 10\n",
      "muitiply of 20 * 10 = 200\n",
      "divide of 20 / 10 = 2.0\n"
     ]
    }
   ],
   "source": [
    "class calculator:\n",
    "    def __init__(self,num1:int,num2:int):\n",
    "        self.num_1 = num1\n",
    "        self.num_2 = num2\n",
    "    def addition(self)->str:\n",
    "        return f'sum of {self.num_1} + {self.num_2} = {self.num_1+self.num_2}'\n",
    "    def subsraction(self)->str:\n",
    "        return f'substract of {self.num_1} - {self.num_2} = {self.num_1-self.num_2}'\n",
    "    def multiplication(self)->str:\n",
    "        return f'muitiply of {self.num_1} * {self.num_2} = {self.num_1*self.num_2}'\n",
    "    def division(self)->str:\n",
    "        return f'divide of {self.num_1} / {self.num_2} = {self.num_1/self.num_2}'    \n",
    "\n",
    "calc = calculator(20,10)\n",
    "print(calc.addition())\n",
    "print(calc.subsraction())\n",
    "print(calc.multiplication())\n",
    "print(calc.division())\n"
   ]
  }
 ],
 "metadata": {
  "kernelspec": {
   "display_name": "Python 3",
   "language": "python",
   "name": "python3"
  },
  "language_info": {
   "codemirror_mode": {
    "name": "ipython",
    "version": 3
   },
   "file_extension": ".py",
   "mimetype": "text/x-python",
   "name": "python",
   "nbconvert_exporter": "python",
   "pygments_lexer": "ipython3",
   "version": "3.11.1 (tags/v3.11.1:a7a450f, Dec  6 2022, 19:58:39) [MSC v.1934 64 bit (AMD64)]"
  },
  "orig_nbformat": 4,
  "vscode": {
   "interpreter": {
    "hash": "c261aea317cc0286b3b3261fbba9abdec21eaa57589985bb7a274bf54d6cc0a7"
   }
  }
 },
 "nbformat": 4,
 "nbformat_minor": 2
}
