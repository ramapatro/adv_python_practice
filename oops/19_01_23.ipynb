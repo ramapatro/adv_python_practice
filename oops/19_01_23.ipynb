{
 "cells": [
  {
   "cell_type": "code",
   "execution_count": 6,
   "metadata": {},
   "outputs": [
    {
     "name": "stdout",
     "output_type": "stream",
     "text": [
      "he is mr kritarth and he is thr cutest person of the world and his age is 2 and he is a new born baby\n"
     ]
    }
   ],
   "source": [
    "class About:\n",
    "    #class attribute\n",
    "    job = 'new born baby'\n",
    "\n",
    "    #instance attribute\n",
    "    def __init__(self,age,name):\n",
    "        self.name = name\n",
    "        self.age = age\n",
    "    def set_values(self,name,age):\n",
    "        if(not name and not age):\n",
    "            raise ValueError('name and age must be required!')\n",
    "        else:\n",
    "            self.name = name\n",
    "            self.age = age\n",
    "\n",
    "    def get_values(self):\n",
    "        return self.name , self.age       \n",
    "\n",
    "    #instance method\n",
    "    def getdetail(self):\n",
    "        return f'he is mr {self.name} and he is thr cutest person of the world and his age is {self.age} and he is a {self.job}' \n",
    "    details = property(fset=set_values,fget= get_values)\n",
    "\n",
    "    #constuctor\n",
    "ahan = About(name= 'nanu patro', age = 2)\n",
    "ahan.name = 'kritarth'\n",
    "print(ahan.getdetail())\n"
   ]
  },
  {
   "cell_type": "code",
   "execution_count": 9,
   "metadata": {},
   "outputs": [
    {
     "name": "stdout",
     "output_type": "stream",
     "text": [
      "True\n",
      "subhalaxmi\n",
      "mu heuchi the little cuttest one nanu and moro name heuchi ahan\n"
     ]
    }
   ],
   "source": [
    "global_acess = 'subhalaxmi'\n",
    "\n",
    "class Subha:\n",
    "    age = 19\n",
    "    town = 'berhampur'\n",
    "    mo_sister = 'rinki'\n",
    "    mo_bag_brand = 'american tourister'\n",
    "    mo_clg_name = 'RIT'\n",
    "    mo_ghare_bestperson = 'nanu'\n",
    "    nanu_com = 'ahan'\n",
    "\n",
    "#instance attribute\n",
    "    def __init__(self,name:str):\n",
    "        self.name = name\n",
    "\n",
    "    #instance methods\n",
    "    def getname():\n",
    "       return global_acess\n",
    "\n",
    "    #instance methods\n",
    "    def getfaltu_goodthings_about_me(self,putura):\n",
    "        return f'mu heuchi the little cuttest one {self.mo_ghare_bestperson} and moro name heuchi {self.nanu_com}'\n",
    "\n",
    "psubha = Subha('nanu')\n",
    "print(isinstance(psubha,Subha))\n",
    "print(Subha.getname())\n",
    "print(psubha.getfaltu_goodthings_about_me(putura='nanu'))"
   ]
  }
 ],
 "metadata": {
  "kernelspec": {
   "display_name": "Python 3",
   "language": "python",
   "name": "python3"
  },
  "language_info": {
   "codemirror_mode": {
    "name": "ipython",
    "version": 3
   },
   "file_extension": ".py",
   "mimetype": "text/x-python",
   "name": "python",
   "nbconvert_exporter": "python",
   "pygments_lexer": "ipython3",
   "version": "3.11.1 (tags/v3.11.1:a7a450f, Dec  6 2022, 19:58:39) [MSC v.1934 64 bit (AMD64)]"
  },
  "orig_nbformat": 4,
  "vscode": {
   "interpreter": {
    "hash": "c261aea317cc0286b3b3261fbba9abdec21eaa57589985bb7a274bf54d6cc0a7"
   }
  }
 },
 "nbformat": 4,
 "nbformat_minor": 2
}
