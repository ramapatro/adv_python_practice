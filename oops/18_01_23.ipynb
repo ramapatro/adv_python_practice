{
 "cells": [
  {
   "cell_type": "code",
   "execution_count": 5,
   "metadata": {},
   "outputs": [
    {
     "name": "stdout",
     "output_type": "stream",
     "text": [
      " i m Subhalaxmi & my age is19 & i m a student\n",
      " i m sweta & my age is24 & i m a student\n",
      "<__main__.About object at 0x000001CB04475290>\n",
      "<class '__main__.About'>\n",
      "<class 'type'>\n"
     ]
    }
   ],
   "source": [
    "outside = 20\n",
    "class About:\n",
    "    # class attributes\n",
    "    job = 'student'\n",
    "    #instance attribute\n",
    "    def __init__(self,name,age):\n",
    "        self.name = name\n",
    "        self.age = age\n",
    "\n",
    "    #instance methods\n",
    "    def getDetails(self):\n",
    "        return f' i m {self.name} & my age is{self.age} & i m a {self.job}'\n",
    "\n",
    "    #creating a constructor\n",
    "supriya = About(name='Subhalaxmi',age=19)\n",
    "rinki = About(name='didi',age= 25)\n",
    "\n",
    "rinki.age = 24\n",
    "rinki.name = 'sweta'\n",
    "\n",
    "print(supriya.getDetails())\n",
    "print(rinki.getDetails())\n",
    "print(supriya)\n",
    "print(About)\n",
    "print(type(About))\n",
    "\n",
    "        \n"
   ]
  },
  {
   "cell_type": "code",
   "execution_count": 2,
   "metadata": {},
   "outputs": [
    {
     "name": "stdout",
     "output_type": "stream",
     "text": [
      "i am2 3\n"
     ]
    }
   ],
   "source": [
    " #class attribute\n",
    "class About:               \n",
    "    \n",
    "    #instance attribute\n",
    "    def __init__(self,name,age) :\n",
    "        self._name = name\n",
    "        self._age = age\n",
    "       # self.set_age(age)\n",
    "\n",
    "    def set_age(self,age):\n",
    "        return f'i am{age} {self._age}'\n",
    "        #instance method\n",
    "        def get_details(self):\n",
    "            return f'my name is {self._name} & i am  {self._age} years old'   \n",
    "\n",
    "    #creating constructor\n",
    "nanu = About('ahan',3)\n",
    "print(nanu.set_age(2))\n"
   ]
  },
  {
   "cell_type": "code",
   "execution_count": 5,
   "metadata": {},
   "outputs": [
    {
     "name": "stdout",
     "output_type": "stream",
     "text": [
      "<property object at 0x000001D78970E4D0>\n",
      "20\n",
      "{'_age': 20}\n"
     ]
    }
   ],
   "source": [
    "class Student:\n",
    "    def __init__(self,name,age) :\n",
    "        self.age = age\n",
    "    \n",
    "    def set_age(self,age):\n",
    "        self._age = age\n",
    "    def get_age(self):\n",
    "        return self._age\n",
    "    age = property(fset=set_age,fget=get_age)\n",
    "\n",
    "supriya = Student(name='subhalaxmi patro',age = 19)\n",
    "supriya.age = 20\n",
    "print(Student.age)\n",
    "print(supriya.age)\n",
    "\n",
    "print(supriya.__dict__)"
   ]
  },
  {
   "cell_type": "code",
   "execution_count": 2,
   "metadata": {},
   "outputs": [
    {
     "name": "stdout",
     "output_type": "stream",
     "text": [
      "<property object at 0x000001DC94FDE160>\n",
      "<property object at 0x000001DC94FDE070>\n",
      "20\n",
      "{'_name': 'subhalaxmi patro', 'age': 20, 'name': 'supriya'}\n",
      "{'__module__': '__main__', '__init__': <function Student.__init__ at 0x000001DC94FFC360>, 'set_age': <function Student.set_age at 0x000001DC94FFC540>, 'get_age': <function Student.get_age at 0x000001DC94FFC5E0>, 'set_name': <function Student.set_name at 0x000001DC94FFC680>, 'get_name': <function Student.get_name at 0x000001DC94FFC720>, 'ages': <property object at 0x000001DC94FDE160>, 'names': <property object at 0x000001DC94FDE070>, '__dict__': <attribute '__dict__' of 'Student' objects>, '__weakref__': <attribute '__weakref__' of 'Student' objects>, '__doc__': None}\n"
     ]
    }
   ],
   "source": [
    "from pprint import pprint\n",
    "class Student:\n",
    "    def __init__(self,name,age) :\n",
    "        self._name = name\n",
    "        self.age = age\n",
    "    \n",
    "    def set_age(self,age):\n",
    "        if not age:\n",
    "            raise ValueError('age is required')\n",
    "        else:\n",
    "            self.age = age \n",
    "\n",
    "    def get_age(self):\n",
    "        return self.age\n",
    "\n",
    "    def set_name(self,name):\n",
    "        if(not name):\n",
    "            raise ValueError('name is required')  \n",
    "        else:\n",
    "            self.name = name\n",
    "    def get_name(self):\n",
    "        return self.name\n",
    "\n",
    "    ages = property(fset=set_age,fget=get_age)\n",
    "    names = property(fset=set_name,fget=get_name)\n",
    "\n",
    "supriya = Student(name='subhalaxmi patro',age = 19)\n",
    "supriya.names = 'supriya'\n",
    "supriya.ages = 20\n",
    "print(Student.ages)\n",
    "print(Student.names)\n",
    "print(supriya.ages)\n",
    "\n",
    "print(supriya.__dict__)\n",
    "print(Student.__dict__)"
   ]
  },
  {
   "cell_type": "code",
   "execution_count": 8,
   "metadata": {},
   "outputs": [
    {
     "name": "stdout",
     "output_type": "stream",
     "text": [
      "True\n",
      "<__main__.Patrofamily object at 0x000001DC93A61290>\n",
      "<class '__main__.Patrofamily'>\n",
      "{'name': 'supriya', 'age': 19}\n",
      "{'__module__': '__main__', '__init__': <function Patrofamily.__init__ at 0x000001DC955098A0>, 'getdetails': <function Patrofamily.getdetails at 0x000001DC95509800>, '__dict__': <attribute '__dict__' of 'Patrofamily' objects>, '__weakref__': <attribute '__weakref__' of 'Patrofamily' objects>, '__doc__': None}\n"
     ]
    }
   ],
   "source": [
    "from pprint import pprint\n",
    "class Patrofamily:\n",
    "    def __init__(self,name,age):\n",
    "        self.name= name\n",
    "        self.age= age\n",
    "    def getdetails(self):\n",
    "        return f'i am {self.name} and my age is {self.age}'\n",
    "\n",
    "patrofamily = Patrofamily(name='supriya',age=19)\n",
    "print(isinstance(patrofamily,Patrofamily))\n",
    "print(patrofamily)\n",
    "print(Patrofamily)\n",
    "\n",
    "print(patrofamily.__dict__)\n",
    "print(Patrofamily.__dict__)"
   ]
  },
  {
   "cell_type": "code",
   "execution_count": 4,
   "metadata": {},
   "outputs": [
    {
     "name": "stdout",
     "output_type": "stream",
     "text": [
      "True\n",
      "ama family ra member hauchi supriya au mo bayasa heuchi 19\n",
      "<class '__main__.Patrofamily'>\n",
      "ama family ra sabuthu bhala au smart sadasya heuchi supriya au sie 19 bayasara\n"
     ]
    }
   ],
   "source": [
    "from pprint import pprint\n",
    "class Patrofamily:\n",
    "    def __init__(self,name,age):\n",
    "        self.name= name\n",
    "        self.age= age\n",
    "    def __str__(self):\n",
    "        return f'ama family ra member hauchi {self.name} au mo bayasa heuchi {self.age}'\n",
    "    def __repr__(self) :\n",
    "        return f'ama family ra sabuthu bhala au smart sadasya heuchi {self.name} au sie {self.age} bayasara'\n",
    "        \n",
    "    # def getdetails(self):\n",
    "    #     return f'i am {self.name} and my age is {self.age}'\n",
    "     \n",
    "patrofamily = Patrofamily(name='supriya',age=19)\n",
    "print(isinstance(patrofamily,Patrofamily))\n",
    "print(patrofamily)\n",
    "print(Patrofamily)\n",
    "\n",
    "print(repr(patrofamily))\n"
   ]
  }
 ],
 "metadata": {
  "kernelspec": {
   "display_name": "Python 3",
   "language": "python",
   "name": "python3"
  },
  "language_info": {
   "codemirror_mode": {
    "name": "ipython",
    "version": 3
   },
   "file_extension": ".py",
   "mimetype": "text/x-python",
   "name": "python",
   "nbconvert_exporter": "python",
   "pygments_lexer": "ipython3",
   "version": "3.11.1 (tags/v3.11.1:a7a450f, Dec  6 2022, 19:58:39) [MSC v.1934 64 bit (AMD64)]"
  },
  "orig_nbformat": 4,
  "vscode": {
   "interpreter": {
    "hash": "c261aea317cc0286b3b3261fbba9abdec21eaa57589985bb7a274bf54d6cc0a7"
   }
  }
 },
 "nbformat": 4,
 "nbformat_minor": 2
}
